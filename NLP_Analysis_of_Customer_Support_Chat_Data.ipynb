{
  "nbformat": 4,
  "nbformat_minor": 0,
  "metadata": {
    "colab": {
      "provenance": []
    },
    "kernelspec": {
      "name": "python3",
      "display_name": "Python 3"
    },
    "language_info": {
      "name": "python"
    }
  },
  "cells": [
    {
      "cell_type": "code",
      "execution_count": null,
      "metadata": {
        "colab": {
          "base_uri": "https://localhost:8080/"
        },
        "id": "hoRQW2Rf5n9d",
        "outputId": "398cbb47-0c3e-4f00-b15f-e6ec74d9404a"
      },
      "outputs": [
        {
          "output_type": "stream",
          "name": "stdout",
          "text": [
            "Drive already mounted at /content/drive; to attempt to forcibly remount, call drive.mount(\"/content/drive\", force_remount=True).\n"
          ]
        }
      ],
      "source": [
        "from google.colab import drive\n",
        "drive.mount('/content/drive')"
      ]
    },
    {
      "cell_type": "code",
      "source": [
        "import pandas as pd\n",
        "import spacy"
      ],
      "metadata": {
        "id": "qSn9ciBA6E-g"
      },
      "execution_count": null,
      "outputs": []
    },
    {
      "cell_type": "code",
      "source": [
        "#Import dataset\n",
        "df = pd.read_csv('/content/drive/MyDrive/Colab Notebooks/Datasets/Chat Log Dataset .csv')\n",
        "df"
      ],
      "metadata": {
        "colab": {
          "base_uri": "https://localhost:8080/",
          "height": 363
        },
        "id": "cZbFIVH-65jZ",
        "outputId": "d912c07f-54a7-4321-a790-442a0aba08ad"
      },
      "execution_count": null,
      "outputs": [
        {
          "output_type": "execute_result",
          "data": {
            "text/plain": [
              "   customer_id         chat_date  \\\n",
              "0          101    1/10/2024 9:00   \n",
              "1          102     2/4/2024 9:15   \n",
              "2          103    4/10/2024 9:30   \n",
              "3          104    5/20/2024 9:45   \n",
              "4          105    6/8/2024 10:00   \n",
              "5          106   6/20/2024 10:15   \n",
              "6          107   7/15/2024 10:30   \n",
              "7          108   8/18/2024 10:45   \n",
              "8          109   10/5/2024 11:00   \n",
              "9          110  11/10/2024 11:15   \n",
              "\n",
              "                                        message_text  \n",
              "0  \"I'm having trouble logging into my account, p...  \n",
              "1  \"How do I change my password? I forgot the old...  \n",
              "2  \"Can I return a product that I bought last wee...  \n",
              "3  \"When will my order be shipped? I haven't rece...  \n",
              "4  \"I need to update my shipping address for my r...  \n",
              "5  \"Is it possible to get a refund on a defective...  \n",
              "6  \"My credit card was charged incorrectly. Can y...  \n",
              "7  \"I was charged twice for the same order. Pleas...  \n",
              "8  \"Do you have any new deals or discounts for th...  \n",
              "9  \"Can you explain the warranty policy on your e...  "
            ],
            "text/html": [
              "\n",
              "  <div id=\"df-32cd7a4d-1b74-453f-aa78-765c5163d7b8\" class=\"colab-df-container\">\n",
              "    <div>\n",
              "<style scoped>\n",
              "    .dataframe tbody tr th:only-of-type {\n",
              "        vertical-align: middle;\n",
              "    }\n",
              "\n",
              "    .dataframe tbody tr th {\n",
              "        vertical-align: top;\n",
              "    }\n",
              "\n",
              "    .dataframe thead th {\n",
              "        text-align: right;\n",
              "    }\n",
              "</style>\n",
              "<table border=\"1\" class=\"dataframe\">\n",
              "  <thead>\n",
              "    <tr style=\"text-align: right;\">\n",
              "      <th></th>\n",
              "      <th>customer_id</th>\n",
              "      <th>chat_date</th>\n",
              "      <th>message_text</th>\n",
              "    </tr>\n",
              "  </thead>\n",
              "  <tbody>\n",
              "    <tr>\n",
              "      <th>0</th>\n",
              "      <td>101</td>\n",
              "      <td>1/10/2024 9:00</td>\n",
              "      <td>\"I'm having trouble logging into my account, p...</td>\n",
              "    </tr>\n",
              "    <tr>\n",
              "      <th>1</th>\n",
              "      <td>102</td>\n",
              "      <td>2/4/2024 9:15</td>\n",
              "      <td>\"How do I change my password? I forgot the old...</td>\n",
              "    </tr>\n",
              "    <tr>\n",
              "      <th>2</th>\n",
              "      <td>103</td>\n",
              "      <td>4/10/2024 9:30</td>\n",
              "      <td>\"Can I return a product that I bought last wee...</td>\n",
              "    </tr>\n",
              "    <tr>\n",
              "      <th>3</th>\n",
              "      <td>104</td>\n",
              "      <td>5/20/2024 9:45</td>\n",
              "      <td>\"When will my order be shipped? I haven't rece...</td>\n",
              "    </tr>\n",
              "    <tr>\n",
              "      <th>4</th>\n",
              "      <td>105</td>\n",
              "      <td>6/8/2024 10:00</td>\n",
              "      <td>\"I need to update my shipping address for my r...</td>\n",
              "    </tr>\n",
              "    <tr>\n",
              "      <th>5</th>\n",
              "      <td>106</td>\n",
              "      <td>6/20/2024 10:15</td>\n",
              "      <td>\"Is it possible to get a refund on a defective...</td>\n",
              "    </tr>\n",
              "    <tr>\n",
              "      <th>6</th>\n",
              "      <td>107</td>\n",
              "      <td>7/15/2024 10:30</td>\n",
              "      <td>\"My credit card was charged incorrectly. Can y...</td>\n",
              "    </tr>\n",
              "    <tr>\n",
              "      <th>7</th>\n",
              "      <td>108</td>\n",
              "      <td>8/18/2024 10:45</td>\n",
              "      <td>\"I was charged twice for the same order. Pleas...</td>\n",
              "    </tr>\n",
              "    <tr>\n",
              "      <th>8</th>\n",
              "      <td>109</td>\n",
              "      <td>10/5/2024 11:00</td>\n",
              "      <td>\"Do you have any new deals or discounts for th...</td>\n",
              "    </tr>\n",
              "    <tr>\n",
              "      <th>9</th>\n",
              "      <td>110</td>\n",
              "      <td>11/10/2024 11:15</td>\n",
              "      <td>\"Can you explain the warranty policy on your e...</td>\n",
              "    </tr>\n",
              "  </tbody>\n",
              "</table>\n",
              "</div>\n",
              "    <div class=\"colab-df-buttons\">\n",
              "\n",
              "  <div class=\"colab-df-container\">\n",
              "    <button class=\"colab-df-convert\" onclick=\"convertToInteractive('df-32cd7a4d-1b74-453f-aa78-765c5163d7b8')\"\n",
              "            title=\"Convert this dataframe to an interactive table.\"\n",
              "            style=\"display:none;\">\n",
              "\n",
              "  <svg xmlns=\"http://www.w3.org/2000/svg\" height=\"24px\" viewBox=\"0 -960 960 960\">\n",
              "    <path d=\"M120-120v-720h720v720H120Zm60-500h600v-160H180v160Zm220 220h160v-160H400v160Zm0 220h160v-160H400v160ZM180-400h160v-160H180v160Zm440 0h160v-160H620v160ZM180-180h160v-160H180v160Zm440 0h160v-160H620v160Z\"/>\n",
              "  </svg>\n",
              "    </button>\n",
              "\n",
              "  <style>\n",
              "    .colab-df-container {\n",
              "      display:flex;\n",
              "      gap: 12px;\n",
              "    }\n",
              "\n",
              "    .colab-df-convert {\n",
              "      background-color: #E8F0FE;\n",
              "      border: none;\n",
              "      border-radius: 50%;\n",
              "      cursor: pointer;\n",
              "      display: none;\n",
              "      fill: #1967D2;\n",
              "      height: 32px;\n",
              "      padding: 0 0 0 0;\n",
              "      width: 32px;\n",
              "    }\n",
              "\n",
              "    .colab-df-convert:hover {\n",
              "      background-color: #E2EBFA;\n",
              "      box-shadow: 0px 1px 2px rgba(60, 64, 67, 0.3), 0px 1px 3px 1px rgba(60, 64, 67, 0.15);\n",
              "      fill: #174EA6;\n",
              "    }\n",
              "\n",
              "    .colab-df-buttons div {\n",
              "      margin-bottom: 4px;\n",
              "    }\n",
              "\n",
              "    [theme=dark] .colab-df-convert {\n",
              "      background-color: #3B4455;\n",
              "      fill: #D2E3FC;\n",
              "    }\n",
              "\n",
              "    [theme=dark] .colab-df-convert:hover {\n",
              "      background-color: #434B5C;\n",
              "      box-shadow: 0px 1px 3px 1px rgba(0, 0, 0, 0.15);\n",
              "      filter: drop-shadow(0px 1px 2px rgba(0, 0, 0, 0.3));\n",
              "      fill: #FFFFFF;\n",
              "    }\n",
              "  </style>\n",
              "\n",
              "    <script>\n",
              "      const buttonEl =\n",
              "        document.querySelector('#df-32cd7a4d-1b74-453f-aa78-765c5163d7b8 button.colab-df-convert');\n",
              "      buttonEl.style.display =\n",
              "        google.colab.kernel.accessAllowed ? 'block' : 'none';\n",
              "\n",
              "      async function convertToInteractive(key) {\n",
              "        const element = document.querySelector('#df-32cd7a4d-1b74-453f-aa78-765c5163d7b8');\n",
              "        const dataTable =\n",
              "          await google.colab.kernel.invokeFunction('convertToInteractive',\n",
              "                                                    [key], {});\n",
              "        if (!dataTable) return;\n",
              "\n",
              "        const docLinkHtml = 'Like what you see? Visit the ' +\n",
              "          '<a target=\"_blank\" href=https://colab.research.google.com/notebooks/data_table.ipynb>data table notebook</a>'\n",
              "          + ' to learn more about interactive tables.';\n",
              "        element.innerHTML = '';\n",
              "        dataTable['output_type'] = 'display_data';\n",
              "        await google.colab.output.renderOutput(dataTable, element);\n",
              "        const docLink = document.createElement('div');\n",
              "        docLink.innerHTML = docLinkHtml;\n",
              "        element.appendChild(docLink);\n",
              "      }\n",
              "    </script>\n",
              "  </div>\n",
              "\n",
              "\n",
              "<div id=\"df-92ffd42a-5698-4ab8-ace8-ad0ad83e9c1c\">\n",
              "  <button class=\"colab-df-quickchart\" onclick=\"quickchart('df-92ffd42a-5698-4ab8-ace8-ad0ad83e9c1c')\"\n",
              "            title=\"Suggest charts\"\n",
              "            style=\"display:none;\">\n",
              "\n",
              "<svg xmlns=\"http://www.w3.org/2000/svg\" height=\"24px\"viewBox=\"0 0 24 24\"\n",
              "     width=\"24px\">\n",
              "    <g>\n",
              "        <path d=\"M19 3H5c-1.1 0-2 .9-2 2v14c0 1.1.9 2 2 2h14c1.1 0 2-.9 2-2V5c0-1.1-.9-2-2-2zM9 17H7v-7h2v7zm4 0h-2V7h2v10zm4 0h-2v-4h2v4z\"/>\n",
              "    </g>\n",
              "</svg>\n",
              "  </button>\n",
              "\n",
              "<style>\n",
              "  .colab-df-quickchart {\n",
              "      --bg-color: #E8F0FE;\n",
              "      --fill-color: #1967D2;\n",
              "      --hover-bg-color: #E2EBFA;\n",
              "      --hover-fill-color: #174EA6;\n",
              "      --disabled-fill-color: #AAA;\n",
              "      --disabled-bg-color: #DDD;\n",
              "  }\n",
              "\n",
              "  [theme=dark] .colab-df-quickchart {\n",
              "      --bg-color: #3B4455;\n",
              "      --fill-color: #D2E3FC;\n",
              "      --hover-bg-color: #434B5C;\n",
              "      --hover-fill-color: #FFFFFF;\n",
              "      --disabled-bg-color: #3B4455;\n",
              "      --disabled-fill-color: #666;\n",
              "  }\n",
              "\n",
              "  .colab-df-quickchart {\n",
              "    background-color: var(--bg-color);\n",
              "    border: none;\n",
              "    border-radius: 50%;\n",
              "    cursor: pointer;\n",
              "    display: none;\n",
              "    fill: var(--fill-color);\n",
              "    height: 32px;\n",
              "    padding: 0;\n",
              "    width: 32px;\n",
              "  }\n",
              "\n",
              "  .colab-df-quickchart:hover {\n",
              "    background-color: var(--hover-bg-color);\n",
              "    box-shadow: 0 1px 2px rgba(60, 64, 67, 0.3), 0 1px 3px 1px rgba(60, 64, 67, 0.15);\n",
              "    fill: var(--button-hover-fill-color);\n",
              "  }\n",
              "\n",
              "  .colab-df-quickchart-complete:disabled,\n",
              "  .colab-df-quickchart-complete:disabled:hover {\n",
              "    background-color: var(--disabled-bg-color);\n",
              "    fill: var(--disabled-fill-color);\n",
              "    box-shadow: none;\n",
              "  }\n",
              "\n",
              "  .colab-df-spinner {\n",
              "    border: 2px solid var(--fill-color);\n",
              "    border-color: transparent;\n",
              "    border-bottom-color: var(--fill-color);\n",
              "    animation:\n",
              "      spin 1s steps(1) infinite;\n",
              "  }\n",
              "\n",
              "  @keyframes spin {\n",
              "    0% {\n",
              "      border-color: transparent;\n",
              "      border-bottom-color: var(--fill-color);\n",
              "      border-left-color: var(--fill-color);\n",
              "    }\n",
              "    20% {\n",
              "      border-color: transparent;\n",
              "      border-left-color: var(--fill-color);\n",
              "      border-top-color: var(--fill-color);\n",
              "    }\n",
              "    30% {\n",
              "      border-color: transparent;\n",
              "      border-left-color: var(--fill-color);\n",
              "      border-top-color: var(--fill-color);\n",
              "      border-right-color: var(--fill-color);\n",
              "    }\n",
              "    40% {\n",
              "      border-color: transparent;\n",
              "      border-right-color: var(--fill-color);\n",
              "      border-top-color: var(--fill-color);\n",
              "    }\n",
              "    60% {\n",
              "      border-color: transparent;\n",
              "      border-right-color: var(--fill-color);\n",
              "    }\n",
              "    80% {\n",
              "      border-color: transparent;\n",
              "      border-right-color: var(--fill-color);\n",
              "      border-bottom-color: var(--fill-color);\n",
              "    }\n",
              "    90% {\n",
              "      border-color: transparent;\n",
              "      border-bottom-color: var(--fill-color);\n",
              "    }\n",
              "  }\n",
              "</style>\n",
              "\n",
              "  <script>\n",
              "    async function quickchart(key) {\n",
              "      const quickchartButtonEl =\n",
              "        document.querySelector('#' + key + ' button');\n",
              "      quickchartButtonEl.disabled = true;  // To prevent multiple clicks.\n",
              "      quickchartButtonEl.classList.add('colab-df-spinner');\n",
              "      try {\n",
              "        const charts = await google.colab.kernel.invokeFunction(\n",
              "            'suggestCharts', [key], {});\n",
              "      } catch (error) {\n",
              "        console.error('Error during call to suggestCharts:', error);\n",
              "      }\n",
              "      quickchartButtonEl.classList.remove('colab-df-spinner');\n",
              "      quickchartButtonEl.classList.add('colab-df-quickchart-complete');\n",
              "    }\n",
              "    (() => {\n",
              "      let quickchartButtonEl =\n",
              "        document.querySelector('#df-92ffd42a-5698-4ab8-ace8-ad0ad83e9c1c button');\n",
              "      quickchartButtonEl.style.display =\n",
              "        google.colab.kernel.accessAllowed ? 'block' : 'none';\n",
              "    })();\n",
              "  </script>\n",
              "</div>\n",
              "\n",
              "  <div id=\"id_523a096a-f4bc-4dcb-bfb8-73ab0a3de40a\">\n",
              "    <style>\n",
              "      .colab-df-generate {\n",
              "        background-color: #E8F0FE;\n",
              "        border: none;\n",
              "        border-radius: 50%;\n",
              "        cursor: pointer;\n",
              "        display: none;\n",
              "        fill: #1967D2;\n",
              "        height: 32px;\n",
              "        padding: 0 0 0 0;\n",
              "        width: 32px;\n",
              "      }\n",
              "\n",
              "      .colab-df-generate:hover {\n",
              "        background-color: #E2EBFA;\n",
              "        box-shadow: 0px 1px 2px rgba(60, 64, 67, 0.3), 0px 1px 3px 1px rgba(60, 64, 67, 0.15);\n",
              "        fill: #174EA6;\n",
              "      }\n",
              "\n",
              "      [theme=dark] .colab-df-generate {\n",
              "        background-color: #3B4455;\n",
              "        fill: #D2E3FC;\n",
              "      }\n",
              "\n",
              "      [theme=dark] .colab-df-generate:hover {\n",
              "        background-color: #434B5C;\n",
              "        box-shadow: 0px 1px 3px 1px rgba(0, 0, 0, 0.15);\n",
              "        filter: drop-shadow(0px 1px 2px rgba(0, 0, 0, 0.3));\n",
              "        fill: #FFFFFF;\n",
              "      }\n",
              "    </style>\n",
              "    <button class=\"colab-df-generate\" onclick=\"generateWithVariable('df')\"\n",
              "            title=\"Generate code using this dataframe.\"\n",
              "            style=\"display:none;\">\n",
              "\n",
              "  <svg xmlns=\"http://www.w3.org/2000/svg\" height=\"24px\"viewBox=\"0 0 24 24\"\n",
              "       width=\"24px\">\n",
              "    <path d=\"M7,19H8.4L18.45,9,17,7.55,7,17.6ZM5,21V16.75L18.45,3.32a2,2,0,0,1,2.83,0l1.4,1.43a1.91,1.91,0,0,1,.58,1.4,1.91,1.91,0,0,1-.58,1.4L9.25,21ZM18.45,9,17,7.55Zm-12,3A5.31,5.31,0,0,0,4.9,8.1,5.31,5.31,0,0,0,1,6.5,5.31,5.31,0,0,0,4.9,4.9,5.31,5.31,0,0,0,6.5,1,5.31,5.31,0,0,0,8.1,4.9,5.31,5.31,0,0,0,12,6.5,5.46,5.46,0,0,0,6.5,12Z\"/>\n",
              "  </svg>\n",
              "    </button>\n",
              "    <script>\n",
              "      (() => {\n",
              "      const buttonEl =\n",
              "        document.querySelector('#id_523a096a-f4bc-4dcb-bfb8-73ab0a3de40a button.colab-df-generate');\n",
              "      buttonEl.style.display =\n",
              "        google.colab.kernel.accessAllowed ? 'block' : 'none';\n",
              "\n",
              "      buttonEl.onclick = () => {\n",
              "        google.colab.notebook.generateWithVariable('df');\n",
              "      }\n",
              "      })();\n",
              "    </script>\n",
              "  </div>\n",
              "\n",
              "    </div>\n",
              "  </div>\n"
            ],
            "application/vnd.google.colaboratory.intrinsic+json": {
              "type": "dataframe",
              "variable_name": "df",
              "summary": "{\n  \"name\": \"df\",\n  \"rows\": 10,\n  \"fields\": [\n    {\n      \"column\": \"customer_id\",\n      \"properties\": {\n        \"dtype\": \"number\",\n        \"std\": 3,\n        \"min\": 101,\n        \"max\": 110,\n        \"num_unique_values\": 10,\n        \"samples\": [\n          109,\n          102,\n          106\n        ],\n        \"semantic_type\": \"\",\n        \"description\": \"\"\n      }\n    },\n    {\n      \"column\": \"chat_date\",\n      \"properties\": {\n        \"dtype\": \"object\",\n        \"num_unique_values\": 10,\n        \"samples\": [\n          \"10/5/2024 11:00\",\n          \"2/4/2024 9:15\",\n          \"6/20/2024 10:15\"\n        ],\n        \"semantic_type\": \"\",\n        \"description\": \"\"\n      }\n    },\n    {\n      \"column\": \"message_text\",\n      \"properties\": {\n        \"dtype\": \"string\",\n        \"num_unique_values\": 10,\n        \"samples\": [\n          \"\\\"Do you have any new deals or discounts for the upcoming holiday season?\\\"\",\n          \"\\\"How do I change my password? I forgot the old one.\\\"\",\n          \"\\\"Is it possible to get a refund on a defective item I bought a month ago?\\\"\"\n        ],\n        \"semantic_type\": \"\",\n        \"description\": \"\"\n      }\n    }\n  ]\n}"
            }
          },
          "metadata": {},
          "execution_count": 34
        }
      ]
    },
    {
      "cell_type": "markdown",
      "source": [
        "## Data Preprocessing"
      ],
      "metadata": {
        "id": "RVRSOjyJRSPY"
      }
    },
    {
      "cell_type": "markdown",
      "source": [
        "### Tokenization"
      ],
      "metadata": {
        "id": "1-8cz4G-RajT"
      }
    },
    {
      "cell_type": "markdown",
      "source": [
        "#### Sentence Tokanization"
      ],
      "metadata": {
        "id": "_eiQixgQRhCU"
      }
    },
    {
      "cell_type": "code",
      "source": [
        "#Load Spacy model\n",
        "nlp = spacy.load( 'en_core_web_sm')\n",
        "\n",
        "def sentence_tokenize(text):\n",
        "    doc = nlp(text)\n",
        "    return [sent.text for sent in doc.sents]  # Extract sentences as text\n",
        "\n",
        "# Apply sentence tokenization to each message in the dataset\n",
        "df['sentences'] = df['message_text'].apply(sentence_tokenize)\n",
        "print(df['sentences'])"
      ],
      "metadata": {
        "colab": {
          "base_uri": "https://localhost:8080/"
        },
        "id": "2ZM5ih2vLcwF",
        "outputId": "5cdb6460-418e-4eae-aba9-b3acf7932c4a"
      },
      "execution_count": null,
      "outputs": [
        {
          "output_type": "stream",
          "name": "stdout",
          "text": [
            "0    [\"I'm having trouble logging into my account, ...\n",
            "1    [\"How do I change my password?, I forgot the o...\n",
            "2    [\"Can I return a product that I bought last we...\n",
            "3    [\"When will my order be shipped?, I haven't re...\n",
            "4    [\"I need to update my shipping address for my ...\n",
            "5    [\"Is it possible to get a refund on a defectiv...\n",
            "6    [\"My credit card was charged incorrectly., Can...\n",
            "7    [\"I was charged twice for the same order., Ple...\n",
            "8    [\"Do you have any new deals or discounts for t...\n",
            "9    [\"Can you explain the warranty policy on your ...\n",
            "Name: sentences, dtype: object\n"
          ]
        }
      ]
    },
    {
      "cell_type": "markdown",
      "source": [
        "#### Word Tokanization"
      ],
      "metadata": {
        "id": "fF4P5vOERmP_"
      }
    },
    {
      "cell_type": "code",
      "source": [
        "#Tokenize Mesage text column\n",
        "tokens= df['message_text'].apply(lambda x: [token.text for token in nlp(x)])\n",
        "print(tokens)"
      ],
      "metadata": {
        "colab": {
          "base_uri": "https://localhost:8080/"
        },
        "id": "trszfyF9ASj4",
        "outputId": "17b42c43-4b4a-4ee9-f898-b1c1ee6d99a3"
      },
      "execution_count": null,
      "outputs": [
        {
          "output_type": "stream",
          "name": "stdout",
          "text": [
            "0    [\", I, 'm, having, trouble, logging, into, my,...\n",
            "1    [\", How, do, I, change, my, password, ?, I, fo...\n",
            "2    [\", Can, I, return, a, product, that, I, bough...\n",
            "3    [\", When, will, my, order, be, shipped, ?, I, ...\n",
            "4    [\", I, need, to, update, my, shipping, address...\n",
            "5    [\", Is, it, possible, to, get, a, refund, on, ...\n",
            "6    [\", My, credit, card, was, charged, incorrectl...\n",
            "7    [\", I, was, charged, twice, for, the, same, or...\n",
            "8    [\", Do, you, have, any, new, deals, or, discou...\n",
            "9    [\", Can, you, explain, the, warranty, policy, ...\n",
            "Name: message_text, dtype: object\n"
          ]
        }
      ]
    },
    {
      "cell_type": "code",
      "source": [
        "import spacy\n",
        "\n",
        "# Load the spaCy language model\n",
        "nlp = spacy.load('en_core_web_sm')\n",
        "\n",
        "# Function to tokenize words\n",
        "def word_tokenize(text):\n",
        "    doc = nlp(text)\n",
        "    return [token.text for token in doc if not token.is_punct and not token.is_space]\n",
        "\n",
        "# Apply word tokenization to each message in the dataset\n",
        "df['word_tokens'] = df['message_text'].apply(word_tokenize)\n",
        "\n",
        "# Check if 'word_tokens' column is created successfully\n",
        "print(df['word_tokens'])\n"
      ],
      "metadata": {
        "colab": {
          "base_uri": "https://localhost:8080/"
        },
        "id": "qbbK3rvxb1h9",
        "outputId": "baa4067b-dcc9-4951-ccde-377f30918edd"
      },
      "execution_count": null,
      "outputs": [
        {
          "output_type": "stream",
          "name": "stdout",
          "text": [
            "0    [I, 'm, having, trouble, logging, into, my, ac...\n",
            "1    [How, do, I, change, my, password, I, forgot, ...\n",
            "2    [Can, I, return, a, product, that, I, bought, ...\n",
            "3    [When, will, my, order, be, shipped, I, have, ...\n",
            "4    [I, need, to, update, my, shipping, address, f...\n",
            "5    [Is, it, possible, to, get, a, refund, on, a, ...\n",
            "6    [My, credit, card, was, charged, incorrectly, ...\n",
            "7    [I, was, charged, twice, for, the, same, order...\n",
            "8    [Do, you, have, any, new, deals, or, discounts...\n",
            "9    [Can, you, explain, the, warranty, policy, on,...\n",
            "Name: word_tokens, dtype: object\n"
          ]
        }
      ]
    },
    {
      "cell_type": "markdown",
      "source": [
        "### Stemming and Lemmatization"
      ],
      "metadata": {
        "id": "D-xxnBTaTN9_"
      }
    },
    {
      "cell_type": "markdown",
      "source": [
        "#### Stemming"
      ],
      "metadata": {
        "id": "D3vk6COhWLSr"
      }
    },
    {
      "cell_type": "code",
      "source": [
        "# Initialize NLTK stemmer\n",
        "from nltk import PorterStemmer\n",
        "\n",
        "stemmer = PorterStemmer()"
      ],
      "metadata": {
        "id": "Y74koimhQO_I"
      },
      "execution_count": null,
      "outputs": []
    },
    {
      "cell_type": "code",
      "source": [
        "from nltk.stem import PorterStemmer\n",
        "\n",
        "# Initialize the NLTK stemmer\n",
        "stemmer = PorterStemmer()\n",
        "\n",
        "# Function to perform stemming\n",
        "def stem_words(tokens):\n",
        "    return [stemmer.stem(token) for token in tokens]\n",
        "\n",
        "# Apply stemming to each list of tokens in 'word_tokens'\n",
        "df['stemmed_tokens'] = df['word_tokens'].apply(stem_words)\n",
        "\n",
        "# Check the stemmed results\n",
        "print(df[['word_tokens', 'stemmed_tokens']])"
      ],
      "metadata": {
        "colab": {
          "base_uri": "https://localhost:8080/"
        },
        "id": "-Vo_2tMUbspf",
        "outputId": "8e146239-7fb3-4f3a-c0d5-4f7b6ab1fb0e"
      },
      "execution_count": null,
      "outputs": [
        {
          "output_type": "stream",
          "name": "stdout",
          "text": [
            "                                         word_tokens  \\\n",
            "0  [I, 'm, having, trouble, logging, into, my, ac...   \n",
            "1  [How, do, I, change, my, password, I, forgot, ...   \n",
            "2  [Can, I, return, a, product, that, I, bought, ...   \n",
            "3  [When, will, my, order, be, shipped, I, have, ...   \n",
            "4  [I, need, to, update, my, shipping, address, f...   \n",
            "5  [Is, it, possible, to, get, a, refund, on, a, ...   \n",
            "6  [My, credit, card, was, charged, incorrectly, ...   \n",
            "7  [I, was, charged, twice, for, the, same, order...   \n",
            "8  [Do, you, have, any, new, deals, or, discounts...   \n",
            "9  [Can, you, explain, the, warranty, policy, on,...   \n",
            "\n",
            "                                      stemmed_tokens  \n",
            "0  [i, 'm, have, troubl, log, into, my, account, ...  \n",
            "1  [how, do, i, chang, my, password, i, forgot, t...  \n",
            "2  [can, i, return, a, product, that, i, bought, ...  \n",
            "3  [when, will, my, order, be, ship, i, have, n't...  \n",
            "4  [i, need, to, updat, my, ship, address, for, m...  \n",
            "5  [is, it, possibl, to, get, a, refund, on, a, d...  \n",
            "6  [my, credit, card, wa, charg, incorrectli, can...  \n",
            "7  [i, wa, charg, twice, for, the, same, order, p...  \n",
            "8  [do, you, have, ani, new, deal, or, discount, ...  \n",
            "9  [can, you, explain, the, warranti, polici, on,...  \n"
          ]
        }
      ]
    },
    {
      "cell_type": "markdown",
      "source": [
        "#### Lemmatization"
      ],
      "metadata": {
        "id": "4FbK493-3KFG"
      }
    },
    {
      "cell_type": "code",
      "source": [
        "def lemmatize_words(tokens):\n",
        "  doc = nlp(' '.join(tokens))\n",
        "  return [token.lemma_ for token in doc]\n",
        "\n",
        "df['lemmatized_tokens'] = df['word_tokens'].apply(lemmatize_words)\n",
        "\n",
        "print(df['lemmatized_tokens'])"
      ],
      "metadata": {
        "colab": {
          "base_uri": "https://localhost:8080/"
        },
        "id": "R9T6ML6qZi4N",
        "outputId": "055e8cd2-8f28-45ba-8c9d-29497ccf399a"
      },
      "execution_count": null,
      "outputs": [
        {
          "output_type": "stream",
          "name": "stdout",
          "text": [
            "0    [I, ', m, have, trouble, log, into, my, accoun...\n",
            "1    [how, do, I, change, my, password, I, forget, ...\n",
            "2    [can, I, return, a, product, that, I, buy, las...\n",
            "3    [when, will, my, order, be, ship, I, have, not...\n",
            "4    [I, need, to, update, my, shipping, address, f...\n",
            "5    [be, it, possible, to, get, a, refund, on, a, ...\n",
            "6    [my, credit, card, be, charge, incorrectly, ca...\n",
            "7    [I, be, charge, twice, for, the, same, order, ...\n",
            "8    [do, you, have, any, new, deal, or, discount, ...\n",
            "9    [can, you, explain, the, warranty, policy, on,...\n",
            "Name: lemmatized_tokens, dtype: object\n"
          ]
        }
      ]
    },
    {
      "cell_type": "markdown",
      "source": [
        "## POS Tagging"
      ],
      "metadata": {
        "id": "DC5CSeXLm6My"
      }
    },
    {
      "cell_type": "code",
      "source": [
        "# Function to tokenize and perform POS tagging\n",
        "def pos_tagging(text):\n",
        "    doc = nlp(text)  # Tokenize and perform POS tagging using spaCy\n",
        "    for token in doc:\n",
        "        print(f\"{token.text} | {token.pos_} | {spacy.explain(token.pos_)}\")\n",
        "\n",
        "# Apply the function to each message in the dataset and print results\n",
        "df['message_text'].apply(pos_tagging)"
      ],
      "metadata": {
        "colab": {
          "base_uri": "https://localhost:8080/",
          "height": 1000
        },
        "id": "zoM94ovr3Btm",
        "outputId": "d9d220d1-79df-4e61-d467-a82b63b1ff52"
      },
      "execution_count": null,
      "outputs": [
        {
          "output_type": "stream",
          "name": "stdout",
          "text": [
            "\" | PUNCT | punctuation\n",
            "I | PRON | pronoun\n",
            "'m | AUX | auxiliary\n",
            "having | VERB | verb\n",
            "trouble | NOUN | noun\n",
            "logging | VERB | verb\n",
            "into | ADP | adposition\n",
            "my | PRON | pronoun\n",
            "account | NOUN | noun\n",
            ", | PUNCT | punctuation\n",
            "please | INTJ | interjection\n",
            "help | VERB | verb\n",
            "me | PRON | pronoun\n",
            ". | PUNCT | punctuation\n",
            "\" | PUNCT | punctuation\n",
            "\" | PUNCT | punctuation\n",
            "How | SCONJ | subordinating conjunction\n",
            "do | AUX | auxiliary\n",
            "I | PRON | pronoun\n",
            "change | VERB | verb\n",
            "my | PRON | pronoun\n",
            "password | NOUN | noun\n",
            "? | PUNCT | punctuation\n",
            "I | PRON | pronoun\n",
            "forgot | VERB | verb\n",
            "the | DET | determiner\n",
            "old | ADJ | adjective\n",
            "one | NUM | numeral\n",
            ". | PUNCT | punctuation\n",
            "\" | PUNCT | punctuation\n",
            "\" | PUNCT | punctuation\n",
            "Can | AUX | auxiliary\n",
            "I | PRON | pronoun\n",
            "return | VERB | verb\n",
            "a | DET | determiner\n",
            "product | NOUN | noun\n",
            "that | PRON | pronoun\n",
            "I | PRON | pronoun\n",
            "bought | VERB | verb\n",
            "last | ADJ | adjective\n",
            "week | NOUN | noun\n",
            "? | PUNCT | punctuation\n",
            "It | PRON | pronoun\n",
            "'s | AUX | auxiliary\n",
            "defective | ADJ | adjective\n",
            ". | PUNCT | punctuation\n",
            "\" | PUNCT | punctuation\n",
            "\" | PUNCT | punctuation\n",
            "When | SCONJ | subordinating conjunction\n",
            "will | AUX | auxiliary\n",
            "my | PRON | pronoun\n",
            "order | NOUN | noun\n",
            "be | AUX | auxiliary\n",
            "shipped | VERB | verb\n",
            "? | PUNCT | punctuation\n",
            "I | PRON | pronoun\n",
            "have | AUX | auxiliary\n",
            "n't | PART | particle\n",
            "received | VERB | verb\n",
            "any | DET | determiner\n",
            "updates | NOUN | noun\n",
            ". | PUNCT | punctuation\n",
            "\" | PUNCT | punctuation\n",
            "\" | PUNCT | punctuation\n",
            "I | PRON | pronoun\n",
            "need | VERB | verb\n",
            "to | PART | particle\n",
            "update | VERB | verb\n",
            "my | PRON | pronoun\n",
            "shipping | NOUN | noun\n",
            "address | NOUN | noun\n",
            "for | ADP | adposition\n",
            "my | PRON | pronoun\n",
            "recent | ADJ | adjective\n",
            "order | NOUN | noun\n",
            ". | PUNCT | punctuation\n",
            "\" | PUNCT | punctuation\n",
            "\" | PUNCT | punctuation\n",
            "Is | AUX | auxiliary\n",
            "it | PRON | pronoun\n",
            "possible | ADJ | adjective\n",
            "to | PART | particle\n",
            "get | VERB | verb\n",
            "a | DET | determiner\n",
            "refund | NOUN | noun\n",
            "on | ADP | adposition\n",
            "a | DET | determiner\n",
            "defective | ADJ | adjective\n",
            "item | NOUN | noun\n",
            "I | PRON | pronoun\n",
            "bought | VERB | verb\n",
            "a | DET | determiner\n",
            "month | NOUN | noun\n",
            "ago | ADV | adverb\n",
            "? | PUNCT | punctuation\n",
            "\" | PUNCT | punctuation\n",
            "\" | PUNCT | punctuation\n",
            "My | PRON | pronoun\n",
            "credit | NOUN | noun\n",
            "card | NOUN | noun\n",
            "was | AUX | auxiliary\n",
            "charged | VERB | verb\n",
            "incorrectly | ADV | adverb\n",
            ". | PUNCT | punctuation\n",
            "Can | AUX | auxiliary\n",
            "you | PRON | pronoun\n",
            "assist | VERB | verb\n",
            "with | ADP | adposition\n",
            "that | PRON | pronoun\n",
            "? | PUNCT | punctuation\n",
            "\" | PUNCT | punctuation\n",
            "\" | PUNCT | punctuation\n",
            "I | PRON | pronoun\n",
            "was | AUX | auxiliary\n",
            "charged | VERB | verb\n",
            "twice | ADV | adverb\n",
            "for | ADP | adposition\n",
            "the | DET | determiner\n",
            "same | ADJ | adjective\n",
            "order | NOUN | noun\n",
            ". | PUNCT | punctuation\n",
            "Please | INTJ | interjection\n",
            "check | VERB | verb\n",
            "it | PRON | pronoun\n",
            ". | PUNCT | punctuation\n",
            "\" | PUNCT | punctuation\n",
            "\" | PUNCT | punctuation\n",
            "Do | AUX | auxiliary\n",
            "you | PRON | pronoun\n",
            "have | VERB | verb\n",
            "any | DET | determiner\n",
            "new | ADJ | adjective\n",
            "deals | NOUN | noun\n",
            "or | CCONJ | coordinating conjunction\n",
            "discounts | NOUN | noun\n",
            "for | ADP | adposition\n",
            "the | DET | determiner\n",
            "upcoming | ADJ | adjective\n",
            "holiday | NOUN | noun\n",
            "season | NOUN | noun\n",
            "? | PUNCT | punctuation\n",
            "\" | PUNCT | punctuation\n",
            "\" | PUNCT | punctuation\n",
            "Can | AUX | auxiliary\n",
            "you | PRON | pronoun\n",
            "explain | VERB | verb\n",
            "the | DET | determiner\n",
            "warranty | NOUN | noun\n",
            "policy | NOUN | noun\n",
            "on | ADP | adposition\n",
            "your | PRON | pronoun\n",
            "electronics | NOUN | noun\n",
            "products | NOUN | noun\n",
            "? | PUNCT | punctuation\n",
            "\" | PUNCT | punctuation\n"
          ]
        },
        {
          "output_type": "execute_result",
          "data": {
            "text/plain": [
              "0    None\n",
              "1    None\n",
              "2    None\n",
              "3    None\n",
              "4    None\n",
              "5    None\n",
              "6    None\n",
              "7    None\n",
              "8    None\n",
              "9    None\n",
              "Name: message_text, dtype: object"
            ],
            "text/html": [
              "<div>\n",
              "<style scoped>\n",
              "    .dataframe tbody tr th:only-of-type {\n",
              "        vertical-align: middle;\n",
              "    }\n",
              "\n",
              "    .dataframe tbody tr th {\n",
              "        vertical-align: top;\n",
              "    }\n",
              "\n",
              "    .dataframe thead th {\n",
              "        text-align: right;\n",
              "    }\n",
              "</style>\n",
              "<table border=\"1\" class=\"dataframe\">\n",
              "  <thead>\n",
              "    <tr style=\"text-align: right;\">\n",
              "      <th></th>\n",
              "      <th>message_text</th>\n",
              "    </tr>\n",
              "  </thead>\n",
              "  <tbody>\n",
              "    <tr>\n",
              "      <th>0</th>\n",
              "      <td>None</td>\n",
              "    </tr>\n",
              "    <tr>\n",
              "      <th>1</th>\n",
              "      <td>None</td>\n",
              "    </tr>\n",
              "    <tr>\n",
              "      <th>2</th>\n",
              "      <td>None</td>\n",
              "    </tr>\n",
              "    <tr>\n",
              "      <th>3</th>\n",
              "      <td>None</td>\n",
              "    </tr>\n",
              "    <tr>\n",
              "      <th>4</th>\n",
              "      <td>None</td>\n",
              "    </tr>\n",
              "    <tr>\n",
              "      <th>5</th>\n",
              "      <td>None</td>\n",
              "    </tr>\n",
              "    <tr>\n",
              "      <th>6</th>\n",
              "      <td>None</td>\n",
              "    </tr>\n",
              "    <tr>\n",
              "      <th>7</th>\n",
              "      <td>None</td>\n",
              "    </tr>\n",
              "    <tr>\n",
              "      <th>8</th>\n",
              "      <td>None</td>\n",
              "    </tr>\n",
              "    <tr>\n",
              "      <th>9</th>\n",
              "      <td>None</td>\n",
              "    </tr>\n",
              "  </tbody>\n",
              "</table>\n",
              "</div><br><label><b>dtype:</b> object</label>"
            ]
          },
          "metadata": {},
          "execution_count": 41
        }
      ]
    },
    {
      "cell_type": "code",
      "source": [
        "from collections import Counter\n",
        "\n",
        "# Function to collect POS tag counts\n",
        "def get_pos_counts(text):\n",
        "    doc = nlp(text)\n",
        "    pos_counts = Counter([token.pos_ for token in doc if not token.is_punct and not token.is_space])\n",
        "    return pos_counts\n",
        "\n",
        "# Apply the function and aggregate POS counts across all messages\n",
        "all_pos_counts = df['message_text'].apply(get_pos_counts)\n",
        "total_pos_counts = sum(all_pos_counts, Counter())\n",
        "\n",
        "print(\"Total POS counts across all messages:\")\n",
        "print(total_pos_counts)"
      ],
      "metadata": {
        "colab": {
          "base_uri": "https://localhost:8080/"
        },
        "id": "GUsdSdJniL8-",
        "outputId": "01c45a34-0676-482e-e437-b97b50da0a5c"
      },
      "execution_count": null,
      "outputs": [
        {
          "output_type": "stream",
          "name": "stdout",
          "text": [
            "Total POS counts across all messages:\n",
            "Counter({'PRON': 25, 'NOUN': 24, 'VERB': 19, 'AUX': 13, 'DET': 10, 'ADJ': 9, 'ADP': 7, 'PART': 3, 'ADV': 3, 'INTJ': 2, 'SCONJ': 2, 'NUM': 1, 'CCONJ': 1})\n"
          ]
        }
      ]
    },
    {
      "cell_type": "code",
      "source": [
        "nlp.pipe_names"
      ],
      "metadata": {
        "colab": {
          "base_uri": "https://localhost:8080/"
        },
        "id": "R7X3-XywjIcI",
        "outputId": "0c85dff7-3639-4621-e9e4-4cc9162015a1"
      },
      "execution_count": null,
      "outputs": [
        {
          "output_type": "execute_result",
          "data": {
            "text/plain": [
              "['tok2vec', 'tagger', 'parser', 'attribute_ruler', 'lemmatizer', 'ner']"
            ]
          },
          "metadata": {},
          "execution_count": 43
        }
      ]
    },
    {
      "cell_type": "markdown",
      "source": [
        "## Named Entity Recognition (NER)"
      ],
      "metadata": {
        "id": "5Tqo9YyQrXOL"
      }
    },
    {
      "cell_type": "code",
      "source": [
        "import pandas as pd\n",
        "import spacy\n",
        "from collections import defaultdict\n",
        "\n",
        "# Load the spaCy model\n",
        "nlp = spacy.load(\"en_core_web_sm\")\n",
        "\n",
        "# Load the dataset\n",
        "df = pd.DataFrame({\n",
        "    'customer_id': [101, 102, 103, 104, 105, 106, 107, 108, 109, 110],\n",
        "    'chat_date': [\n",
        "        \"2024-01-10 09:00:00\", \"2024-02-04 09:15:00\", \"2024-04-10 09:30:00\",\n",
        "        \"2024-05-20 09:45:00\", \"2024-06-08 10:00:00\", \"2024-06-20 10:15:00\",\n",
        "        \"2024-07-15 10:30:00\", \"2024-08-18 10:45:00\", \"2024-10-05 11:00:00\",\n",
        "        \"2024-11-10 11:15:00\"\n",
        "    ],\n",
        "    'message_text': [\n",
        "        \"I'm having trouble logging into my account, please help me.\",\n",
        "        \"How do I change my password? I forgot the old one.\",\n",
        "        \"Can I return a product that I bought last week? It's defective.\",\n",
        "        \"When will my order be shipped? I haven't received any updates.\",\n",
        "        \"I need to update my shipping address for my recent order.\",\n",
        "        \"Is it possible to get a refund on a defective item I bought a month ago?\",\n",
        "        \"My credit card was charged incorrectly. Can you assist with that?\",\n",
        "        \"I was charged twice for the same order. Please check it.\",\n",
        "        \"Do you have any new deals or discounts for the upcoming holiday season?\",\n",
        "        \"Can you explain the warranty policy on your electronics products?\"\n",
        "    ]\n",
        "})\n"
      ],
      "metadata": {
        "id": "WiYcc_eiqt7c"
      },
      "execution_count": null,
      "outputs": []
    },
    {
      "cell_type": "code",
      "source": [
        "# Function to extract entities from message text\n",
        "def extract_entities(text):\n",
        "    doc = nlp(text)\n",
        "    entities = defaultdict(list)\n",
        "    for ent in doc.ents:\n",
        "        if ent.label_ in [\"PRODUCT\", \"GPE\", \"DATE\", \"PERSON\", \"ORG\", \"MONEY\", \"TIME\"]:\n",
        "            entities[ent.label_].append(ent.text)\n",
        "    return entities\n",
        "\n",
        "# Apply the entity extraction to each message\n",
        "df['entities'] = df['message_text'].apply(extract_entities)\n",
        "\n",
        "# Display entities for each query\n",
        "print(df[['message_text', 'entities']])"
      ],
      "metadata": {
        "colab": {
          "base_uri": "https://localhost:8080/"
        },
        "id": "_SiWhao-OtkO",
        "outputId": "4612a1b6-7cd7-4289-c314-c112e1edaf1d"
      },
      "execution_count": null,
      "outputs": [
        {
          "output_type": "stream",
          "name": "stdout",
          "text": [
            "                                        message_text  \\\n",
            "0  I'm having trouble logging into my account, pl...   \n",
            "1  How do I change my password? I forgot the old ...   \n",
            "2  Can I return a product that I bought last week...   \n",
            "3  When will my order be shipped? I haven't recei...   \n",
            "4  I need to update my shipping address for my re...   \n",
            "5  Is it possible to get a refund on a defective ...   \n",
            "6  My credit card was charged incorrectly. Can yo...   \n",
            "7  I was charged twice for the same order. Please...   \n",
            "8  Do you have any new deals or discounts for the...   \n",
            "9  Can you explain the warranty policy on your el...   \n",
            "\n",
            "                                    entities  \n",
            "0                                         {}  \n",
            "1                                         {}  \n",
            "2                    {'DATE': ['last week']}  \n",
            "3                                         {}  \n",
            "4                                         {}  \n",
            "5                  {'DATE': ['a month ago']}  \n",
            "6                                         {}  \n",
            "7                                         {}  \n",
            "8  {'DATE': ['the upcoming holiday season']}  \n",
            "9                                         {}  \n"
          ]
        }
      ]
    },
    {
      "cell_type": "code",
      "source": [
        "from collections import Counter\n",
        "\n",
        "# Aggregate counts for products and locations\n",
        "product_counter = Counter()\n",
        "location_counter = Counter()\n",
        "\n",
        "for entities in df['entities']:\n",
        "    product_counter.update(entities.get('PRODUCT', []))\n",
        "    location_counter.update(entities.get('GPE', []))\n",
        "\n",
        "# Display the counts\n",
        "print(\"Product Mentions:\", product_counter)\n",
        "print(\"Location Mentions:\", location_counter)"
      ],
      "metadata": {
        "colab": {
          "base_uri": "https://localhost:8080/"
        },
        "id": "QeCxBNhksMlP",
        "outputId": "a85c6f23-0cb9-460f-d8e3-6af137d59ac6"
      },
      "execution_count": null,
      "outputs": [
        {
          "output_type": "stream",
          "name": "stdout",
          "text": [
            "Product Mentions: Counter()\n",
            "Location Mentions: Counter()\n"
          ]
        }
      ]
    },
    {
      "cell_type": "markdown",
      "source": [
        "## Analysis & Insights"
      ],
      "metadata": {
        "id": "gs2lgod1PFbu"
      }
    },
    {
      "cell_type": "markdown",
      "source": [
        "### Common Issues"
      ],
      "metadata": {
        "id": "0KcS3OUOPKY0"
      }
    },
    {
      "cell_type": "code",
      "source": [
        "from collections import Counter\n",
        "from nltk.corpus import stopwords\n",
        "import nltk\n",
        "\n",
        "nltk.download('stopwords')\n",
        "stop_words = set(stopwords.words('english'))\n",
        "\n",
        "# Tokenize and filter stopwords\n",
        "tokens = [word for message in df['message_text'] for word in message.lower().split() if word not in stop_words]\n",
        "# Count frequency of each token\n",
        "token_counts = Counter(tokens)\n",
        "# Display the most common tokens\n",
        "print(\"Most common complaint terms:\", token_counts.most_common(10))\n"
      ],
      "metadata": {
        "colab": {
          "base_uri": "https://localhost:8080/"
        },
        "id": "kmKRC3hw9E62",
        "outputId": "0733e3e8-cc7b-4ad8-ab09-d4c4f256889a"
      },
      "execution_count": null,
      "outputs": [
        {
          "output_type": "stream",
          "name": "stdout",
          "text": [
            "Most common complaint terms: [('please', 2), ('bought', 2), ('order.', 2), ('charged', 2), (\"i'm\", 1), ('trouble', 1), ('logging', 1), ('account,', 1), ('help', 1), ('me.', 1)]\n"
          ]
        },
        {
          "output_type": "stream",
          "name": "stderr",
          "text": [
            "[nltk_data] Downloading package stopwords to /root/nltk_data...\n",
            "[nltk_data]   Package stopwords is already up-to-date!\n"
          ]
        }
      ]
    },
    {
      "cell_type": "markdown",
      "source": [
        "###Topic Discovery"
      ],
      "metadata": {
        "id": "OHFAES2fYk9y"
      }
    },
    {
      "cell_type": "code",
      "source": [
        "from sklearn.feature_extraction.text import CountVectorizer\n",
        "from sklearn.decomposition import LatentDirichletAllocation\n",
        "\n",
        "# Convert messages into a document-term matrix\n",
        "vectorizer = CountVectorizer(stop_words='english')\n",
        "dtm = vectorizer.fit_transform(df['message_text'])\n",
        "\n",
        "# Apply LDA\n",
        "lda = LatentDirichletAllocation(n_components=3, random_state=42)  # n_components = number of topics\n",
        "lda.fit(dtm)\n",
        "\n",
        "# Display topics and associated terms\n",
        "for idx, topic in enumerate(lda.components_):\n",
        "    print(f\"Topic #{idx+1}:\")\n",
        "    print([vectorizer.get_feature_names_out()[i] for i in topic.argsort()[-10:]])\n"
      ],
      "metadata": {
        "colab": {
          "base_uri": "https://localhost:8080/"
        },
        "id": "InpCjrWXAD0s",
        "outputId": "a6ee459f-f91b-4e20-bbc4-22a526bc2142"
      },
      "execution_count": null,
      "outputs": [
        {
          "output_type": "stream",
          "name": "stdout",
          "text": [
            "Topic #1:\n",
            "['password', 'old', 'forgot', 'change', 'charged', 'return', 'product', 'week', 'defective', 'bought']\n",
            "Topic #2:\n",
            "['new', 'holiday', 'season', 'discounts', 'address', 'shipping', 'need', 'recent', 'update', 'order']\n",
            "Topic #3:\n",
            "['policy', 'warranty', 'products', 'explain', 'ago', 'item', 'refund', 'possible', 'month', 'charged']\n"
          ]
        }
      ]
    },
    {
      "cell_type": "markdown",
      "source": [
        "### Sentiment Insight"
      ],
      "metadata": {
        "id": "hT1pxRYhYpkw"
      }
    },
    {
      "cell_type": "code",
      "source": [
        "from textblob import TextBlob\n",
        "\n",
        "def get_sentiment(text):\n",
        "    sentiment = TextBlob(text).sentiment.polarity\n",
        "    if sentiment > 0:\n",
        "        return \"Positive\"\n",
        "    elif sentiment == 0:\n",
        "        return \"Neutral\"\n",
        "    else:\n",
        "        return \"Negative\"\n",
        "\n",
        "df['sentiment'] = df['message_text'].apply(get_sentiment)\n",
        "print(df['sentiment'].value_counts())"
      ],
      "metadata": {
        "colab": {
          "base_uri": "https://localhost:8080/"
        },
        "id": "svEzKKKxOg3s",
        "outputId": "45c99fc5-e2ce-4448-def1-bb985c4c11a0"
      },
      "execution_count": null,
      "outputs": [
        {
          "output_type": "stream",
          "name": "stdout",
          "text": [
            "sentiment\n",
            "Neutral     7\n",
            "Positive    2\n",
            "Negative    1\n",
            "Name: count, dtype: int64\n"
          ]
        }
      ]
    },
    {
      "cell_type": "code",
      "source": [],
      "metadata": {
        "id": "gRPvqKNXOjcM"
      },
      "execution_count": null,
      "outputs": []
    }
  ]
}